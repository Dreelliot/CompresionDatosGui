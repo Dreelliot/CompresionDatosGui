{
 "cells": [
  {
   "cell_type": "code",
   "execution_count": 75,
   "metadata": {},
   "outputs": [],
   "source": [
    "import tkinter as tk\n",
    "import graphviz as gv\n",
    "import numpy as np\n",
    "import matplotlib as plt\n",
    "import collections \n",
    "import heapq"
   ]
  },
  {
   "cell_type": "code",
   "execution_count": 76,
   "metadata": {},
   "outputs": [],
   "source": [
    "class Nodohuff:\n",
    "    def __init__(self, sym, frec):\n",
    "        self.sym = sym\n",
    "        self.frec = frec\n",
    "        self.left = None\n",
    "        self.right = None\n",
    "\n",
    "    def __lt__(self, otro):\n",
    "        return self.frec < otro.frec \n",
    "\n",
    "    def __repr__(self):\n",
    "        return f\"Nodohuff(sym={self.sym}, frec={self.frec})\"\n",
    "    \n",
    "    def frecuencia_caracter(string):\n",
    "        frecuencia_caracter = collections.Counter(string)\n",
    "        #print(frecuencia_caracter)\n",
    "        lista=[]\n",
    "        for key, value in frecuencia_caracter.items():\n",
    "            sym = key \n",
    "            frec = value\n",
    "            nodo = Nodohuff(sym, frec)\n",
    "            lista.append(nodo)\n",
    "        #print(lista)    \n",
    "        return lista\n",
    "    \n"
   ]
  },
  {
   "cell_type": "code",
   "execution_count": 77,
   "metadata": {},
   "outputs": [
    {
     "name": "stdout",
     "output_type": "stream",
     "text": [
      "[Nodohuff(sym=a, frec=4), Nodohuff(sym=g, frec=1), Nodohuff(sym=u, frec=1), Nodohuff(sym= , frec=1), Nodohuff(sym=c, frec=1), Nodohuff(sym=l, frec=1), Nodohuff(sym=r, frec=1)]\n"
     ]
    },
    {
     "ename": "TypeError",
     "evalue": "cannot unpack non-iterable Nodohuff object",
     "output_type": "error",
     "traceback": [
      "\u001b[1;31m---------------------------------------------------------------------------\u001b[0m",
      "\u001b[1;31mTypeError\u001b[0m                                 Traceback (most recent call last)",
      "Cell \u001b[1;32mIn[77], line 6\u001b[0m\n\u001b[0;32m      4\u001b[0m listanodos \u001b[38;5;241m=\u001b[39m Nodohuff\u001b[38;5;241m.\u001b[39mfrecuencia_caracter(string)\n\u001b[0;32m      5\u001b[0m \u001b[38;5;28mprint\u001b[39m(listanodos)\n\u001b[1;32m----> 6\u001b[0m \u001b[43mNodohuff\u001b[49m\u001b[38;5;241;43m.\u001b[39;49m\u001b[43mmkheap\u001b[49m\u001b[43m(\u001b[49m\u001b[43mlistanodos\u001b[49m\u001b[43m)\u001b[49m\n",
      "Cell \u001b[1;32mIn[76], line 28\u001b[0m, in \u001b[0;36mNodohuff.mkheap\u001b[1;34m(lista)\u001b[0m\n\u001b[0;32m     26\u001b[0m \u001b[38;5;28;01mdef\u001b[39;00m \u001b[38;5;21mmkheap\u001b[39m(lista):\n\u001b[0;32m     27\u001b[0m     nodos\u001b[38;5;241m=\u001b[39m[]\n\u001b[1;32m---> 28\u001b[0m     \u001b[38;5;28;01mfor\u001b[39;00m x,y \u001b[38;5;129;01min\u001b[39;00m lista:\n\u001b[0;32m     29\u001b[0m         sym\u001b[38;5;241m=\u001b[39mx\n\u001b[0;32m     30\u001b[0m         frec\u001b[38;5;241m=\u001b[39my\n",
      "\u001b[1;31mTypeError\u001b[0m: cannot unpack non-iterable Nodohuff object"
     ]
    }
   ],
   "source": [
    "string = \"agua clara\"\n",
    "\n",
    "Nodohuff.frecuencia_caracter(string)\n",
    "listanodos = Nodohuff.frecuencia_caracter(string)\n",
    "print(listanodos)\n",
    "Nodohuff.mkheap(listanodos)"
   ]
  }
 ],
 "metadata": {
  "kernelspec": {
   "display_name": "amazonas",
   "language": "python",
   "name": "python3"
  },
  "language_info": {
   "codemirror_mode": {
    "name": "ipython",
    "version": 3
   },
   "file_extension": ".py",
   "mimetype": "text/x-python",
   "name": "python",
   "nbconvert_exporter": "python",
   "pygments_lexer": "ipython3",
   "version": "3.12.2"
  }
 },
 "nbformat": 4,
 "nbformat_minor": 2
}
