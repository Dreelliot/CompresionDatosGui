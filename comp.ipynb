{
 "cells": [
  {
   "cell_type": "code",
   "execution_count": 1,
   "metadata": {},
   "outputs": [],
   "source": [
    "import tkinter as tk\n",
    "import numpy as np\n",
    "import graphviz as gv\n",
    "import matplotlib.pyplot as plt\n",
    "import collections \n",
    "import heapq\n",
    "import os"
   ]
  },
  {
   "cell_type": "code",
   "execution_count": 2,
   "metadata": {},
   "outputs": [],
   "source": [
    "class Nodohuff:\n",
    "    def __init__(self, sym, frec, izq=None, der=None):\n",
    "        self.sym = sym\n",
    "        self.frec = frec\n",
    "        self.izq = izq\n",
    "        self.der = der\n",
    "        self.dir= ''\n",
    "\n",
    "    def __lt__(self, otro):\n",
    "        return self.frec < otro.frec \n",
    "\n",
    "    def __repr__(self):\n",
    "        return f\"Nodohuff(sym={self.sym}, frec={self.frec})\"\n",
    "    \n",
    "def frecuencia_caracter(string):\n",
    "        frecuencia_caracter = collections.Counter(string)\n",
    "        #print(frecuencia_caracter)\n",
    "        lista=[]\n",
    "        for key, value in frecuencia_caracter.items():\n",
    "            sym = key \n",
    "            frec = value\n",
    "            nodo = Nodohuff(sym, frec)\n",
    "            lista.append(nodo)\n",
    "        tabla_frecuencia= plt.bar([nodo.sym for nodo in lista], [nodo.frec for nodo in lista],fc='Turquoise',ec='Black')\n",
    "        plt.bar_label(tabla_frecuencia,labels=[nodo.frec for nodo in lista],label_type='edge',fontsize=12,padding=3)\n",
    "        plt.title('Frecuencia Caracteres', fontsize=20)\n",
    "        plt.xlabel('Caracteres')\n",
    "        plt.ylabel('Frecuencia')\n",
    "        plt.show()\n",
    "        return lista\n",
    "    \n",
    "def mkarbol_huff(string): \n",
    "        frecuencia_caracter = collections.Counter(string)\n",
    "\n",
    "        no_usado = []\n",
    "        for key, value in frecuencia_caracter.items():\n",
    "            sym=key\n",
    "            frec=value\n",
    "            nodo= Nodohuff(sym, frec)\n",
    "            #print (nodo)\n",
    "            heapq.heappush(no_usado,nodo)\n",
    "            #print(no_usado)\n",
    "        return no_usado\n",
    "    \n",
    "def sortarbol_huff(no_usado):\n",
    "        while len(no_usado)>1:\n",
    "            izq = heapq.heappop(no_usado)\n",
    "            der = heapq.heappop(no_usado)\n",
    "            #print(izq, der)\n",
    "            izq.dir = '0'\n",
    "            der.dir = '1'\n",
    "            #print(no_usado)\n",
    "            newnodo = Nodohuff(None, izq.frec + der.frec, izq, der)\n",
    "            #print(newnodo)\n",
    "            heapq.heappush(no_usado, newnodo)\n",
    "            #print(no_usado)\n",
    "        return no_usado\n",
    "    \n",
    "def printnodos(nodo, val=''):\n",
    "        newval=val+str(nodo.dir)\n",
    "\n",
    "        if nodo.izq:\n",
    "            printnodos(nodo.izq, newval) \n",
    "        if nodo.der:\n",
    "            printnodos(nodo.der, newval)\n",
    "\n",
    "        if(not nodo.izq and not nodo.der):\n",
    "            print(f\"{nodo.sym} -> {newval}\")\n",
    "\n",
    "def freshfile():\n",
    "        fpath = r'C:\\Dev\\UPC\\U2024-2\\Mat Computacional\\TB1\\compresion.huf'\n",
    "        if os.path.exists(fpath):\n",
    "            fp = open('compresion.huf', 'w')\n",
    "            fp.close()\n",
    "            return\n",
    "        else:\n",
    "             return\n",
    "                 \n",
    "def printfile(nodo, val=''):\n",
    "        fp=open('compresion.huf','a')\n",
    "        newval=val+str(nodo.dir)\n",
    "        if nodo.izq:\n",
    "             printfile(nodo.izq, newval)\n",
    "        if nodo.der:\n",
    "            printfile(nodo.der, newval)\n",
    "        if(not nodo.izq and not nodo.der):\n",
    "            fp.write(nodo.sym+'/'+newval+'')          \n",
    "\n",
    "def mkgraph(arbol):\n",
    "        dot = gv.Digraph('Arbol_Huffman')\n",
    "        cont=0\n",
    "        aux=[]\n",
    "        while len(arbol)>0:\n",
    "            nodo = heapq.heappop(arbol)\n",
    "            if cont%2==0:\n",
    "                nodo.dir = '0'\n",
    "            elif cont%2!=0:\n",
    "                nodo.dir = '1'\n",
    "            if nodo.dir == '0':\n",
    "                newnodo = Nodohuff(nodo.sym, nodo.frec, nodo,None )\n",
    "            elif nodo.dir == '1':\n",
    "                newnodo = Nodohuff(nodo.sym, nodo.frec,None , nodo)\n",
    "            aux.append(newnodo)\n",
    "            cont+=1\n",
    "        nodofinal=Nodohuff('HUFF', None,None,None)\n",
    "        aux.append(nodofinal)\n",
    "        for i in aux:    \n",
    "            dot.node(str(i.sym))\n",
    "        print(aux)\n",
    "        return dot"
   ]
  },
  {
   "cell_type": "code",
   "execution_count": 3,
   "metadata": {},
   "outputs": [],
   "source": [
    "string = \"mama amo a mamama\""
   ]
  },
  {
   "cell_type": "code",
   "execution_count": 4,
   "metadata": {},
   "outputs": [
    {
     "name": "stdout",
     "output_type": "stream",
     "text": [
      "[Nodohuff(sym=o, frec=1), Nodohuff(sym= , frec=3), Nodohuff(sym=m, frec=6), Nodohuff(sym=a, frec=7), Nodohuff(sym=HUFF, frec=None)]\n"
     ]
    },
    {
     "data": {
      "image/svg+xml": [
       "<?xml version=\"1.0\" encoding=\"UTF-8\" standalone=\"no\"?>\n",
       "<!DOCTYPE svg PUBLIC \"-//W3C//DTD SVG 1.1//EN\"\n",
       " \"http://www.w3.org/Graphics/SVG/1.1/DTD/svg11.dtd\">\n",
       "<!-- Generated by graphviz version 10.0.1 (20240210.2158)\n",
       " -->\n",
       "<!-- Title: Arbol_Huffman Pages: 1 -->\n",
       "<svg width=\"366pt\" height=\"44pt\"\n",
       " viewBox=\"0.00 0.00 365.60 44.00\" xmlns=\"http://www.w3.org/2000/svg\" xmlns:xlink=\"http://www.w3.org/1999/xlink\">\n",
       "<g id=\"graph0\" class=\"graph\" transform=\"scale(1 1) rotate(0) translate(4 40)\">\n",
       "<title>Arbol_Huffman</title>\n",
       "<polygon fill=\"white\" stroke=\"none\" points=\"-4,4 -4,-40 361.6,-40 361.6,4 -4,4\"/>\n",
       "<!-- o -->\n",
       "<g id=\"node1\" class=\"node\">\n",
       "<title>o</title>\n",
       "<ellipse fill=\"none\" stroke=\"black\" cx=\"27\" cy=\"-18\" rx=\"27\" ry=\"18\"/>\n",
       "<text text-anchor=\"middle\" x=\"27\" y=\"-12.57\" font-family=\"Times New Roman,serif\" font-size=\"14.00\">o</text>\n",
       "</g>\n",
       "<!--   -->\n",
       "<g id=\"node2\" class=\"node\">\n",
       "<title> </title>\n",
       "<ellipse fill=\"none\" stroke=\"black\" cx=\"99\" cy=\"-18\" rx=\"27\" ry=\"18\"/>\n",
       "<text text-anchor=\"middle\" x=\"99\" y=\"-12.57\" font-family=\"Times New Roman,serif\" font-size=\"14.00\"> </text>\n",
       "</g>\n",
       "<!-- m -->\n",
       "<g id=\"node3\" class=\"node\">\n",
       "<title>m</title>\n",
       "<ellipse fill=\"none\" stroke=\"black\" cx=\"171\" cy=\"-18\" rx=\"27\" ry=\"18\"/>\n",
       "<text text-anchor=\"middle\" x=\"171\" y=\"-12.57\" font-family=\"Times New Roman,serif\" font-size=\"14.00\">m</text>\n",
       "</g>\n",
       "<!-- a -->\n",
       "<g id=\"node4\" class=\"node\">\n",
       "<title>a</title>\n",
       "<ellipse fill=\"none\" stroke=\"black\" cx=\"243\" cy=\"-18\" rx=\"27\" ry=\"18\"/>\n",
       "<text text-anchor=\"middle\" x=\"243\" y=\"-12.57\" font-family=\"Times New Roman,serif\" font-size=\"14.00\">a</text>\n",
       "</g>\n",
       "<!-- HUFF -->\n",
       "<g id=\"node5\" class=\"node\">\n",
       "<title>HUFF</title>\n",
       "<ellipse fill=\"none\" stroke=\"black\" cx=\"323\" cy=\"-18\" rx=\"34.6\" ry=\"18\"/>\n",
       "<text text-anchor=\"middle\" x=\"323\" y=\"-12.57\" font-family=\"Times New Roman,serif\" font-size=\"14.00\">HUFF</text>\n",
       "</g>\n",
       "</g>\n",
       "</svg>\n"
      ],
      "text/plain": [
       "<graphviz.graphs.Digraph at 0x1bd7fa8eb40>"
      ]
     },
     "execution_count": 4,
     "metadata": {},
     "output_type": "execute_result"
    }
   ],
   "source": [
    "arbol_grph = mkarbol_huff(string)\n",
    "mkgraph(arbol_grph)"
   ]
  },
  {
   "cell_type": "code",
   "execution_count": 5,
   "metadata": {},
   "outputs": [
    {
     "data": {
      "image/png": "[encoded data removed]",
      "text/plain": [
       "<Figure size 640x480 with 1 Axes>"
      ]
     },
     "metadata": {},
     "output_type": "display_data"
    }
   ],
   "source": [
    "lista = frecuencia_caracter(string)"
   ]
  },
  {
   "cell_type": "code",
   "execution_count": 6,
   "metadata": {},
   "outputs": [
    {
     "name": "stdout",
     "output_type": "stream",
     "text": [
      "a -> 0\n",
      "o -> 100\n",
      "  -> 101\n",
      "m -> 11\n"
     ]
    }
   ],
   "source": [
    "arbol_pre = mkarbol_huff(string)\n",
    "arbol_sort = sortarbol_huff(arbol_pre)\n",
    "printnodos(arbol_sort[0])\n",
    "freshfile()\n",
    "printfile(arbol_sort[0])\n"
   ]
  }
 ],
 "metadata": {
  "kernelspec": {
   "display_name": "amazonas",
   "language": "python",
   "name": "python3"
  },
  "language_info": {
   "codemirror_mode": {
    "name": "ipython",
    "version": 3
   },
   "file_extension": ".py",
   "mimetype": "text/x-python",
   "name": "python",
   "nbconvert_exporter": "python",
   "pygments_lexer": "ipython3",
   "version": "3.12.2"
  }
 },
 "nbformat": 4,
 "nbformat_minor": 2
}
