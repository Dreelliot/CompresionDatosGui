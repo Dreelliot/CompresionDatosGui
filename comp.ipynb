{
 "cells": [
  {
   "cell_type": "code",
   "execution_count": 59,
   "metadata": {},
   "outputs": [],
   "source": [
    "import tkinter as tk\n",
    "import graphviz as gv\n",
    "import numpy as np\n",
    "import matplotlib as plt\n",
    "from collections import Counter"
   ]
  },
  {
   "cell_type": "code",
   "execution_count": 61,
   "metadata": {},
   "outputs": [],
   "source": [
    "class Nodohuff:\n",
    "    def __init__(self, sym, frec):\n",
    "        self.sym = sym\n",
    "        self.frec = frec\n",
    "        self.left = None\n",
    "        self.right = None\n",
    "\n",
    "    def __lt__(self, otro):\n",
    "        return self.frec < otro.frec \n",
    "    \n",
    "class heap:\n",
    "    def __init__(self):\n",
    "        self.heap = []\n",
    "\n",
    "    def frecuencia_caracter(string):\n",
    "        frecuencia_caracter = Counter(string)\n",
    "        nodo = Nodohuff(sym, frec)\n",
    "        lista.append(nodo)\n",
    "        print(lista)    \n",
    "        return lista\n",
    "        \n",
    "    def insert(self, nodo):\n",
    "        self.heap.append(nodo)\n",
    "        self.heap.sort()\n",
    "    \n",
    "    def pop(self):\n",
    "        return self.heap.pop(0)\n",
    "    \n",
    "    def __len__(self):\n",
    "        return len(self.heap)\n",
    "    "
   ]
  },
  {
   "cell_type": "code",
   "execution_count": 62,
   "metadata": {},
   "outputs": [
    {
     "name": "stdout",
     "output_type": "stream",
     "text": [
      "[Nodo(\"a\",\"4\"), Nodo(\"g\",\"1\"), Nodo(\"u\",\"1\"), Nodo(\" \",\"1\"), Nodo(\"c\",\"1\"), Nodo(\"l\",\"1\"), Nodo(\"r\",\"1\"), Nodo(\"a\",\"4\"), Nodo(\"g\",\"1\"), Nodo(\"u\",\"1\"), Nodo(\" \",\"1\"), Nodo(\"c\",\"1\"), Nodo(\"l\",\"1\"), Nodo(\"r\",\"1\"), Nodo(\"r\",\"1\"), Nodo(\"r\",\"1\"), Nodo(\"r\",\"1\"), <__main__.Nodohuff object at 0x00000202A4D2F080>, <__main__.Nodohuff object at 0x00000202A5A036B0>, <__main__.Nodohuff object at 0x00000202A5A1DD00>]\n"
     ]
    }
   ],
   "source": [
    "string = \"agua clara\"\n",
    "\n",
    "frecuencia_caracter(string)\n",
    "\n",
    "print(lista)\n"
   ]
  },
  {
   "cell_type": "code",
   "execution_count": 63,
   "metadata": {},
   "outputs": [
    {
     "ename": "NameError",
     "evalue": "name 'self' is not defined",
     "output_type": "error",
     "traceback": [
      "\u001b[1;31m---------------------------------------------------------------------------\u001b[0m",
      "\u001b[1;31mNameError\u001b[0m                                 Traceback (most recent call last)",
      "Cell \u001b[1;32mIn[63], line 2\u001b[0m\n\u001b[0;32m      1\u001b[0m \u001b[38;5;28;01mfor\u001b[39;00m x \u001b[38;5;129;01min\u001b[39;00m \u001b[38;5;28mrange\u001b[39m(\u001b[38;5;28mlen\u001b[39m(lista)): \n\u001b[1;32m----> 2\u001b[0m \t\u001b[38;5;28;43mself\u001b[39;49m\u001b[38;5;241m.\u001b[39minsert(nodes, nodo(f\u001b[38;5;241m/\u001b[39meq[x], chars[x])) \n",
      "\u001b[1;31mNameError\u001b[0m: name 'self' is not defined"
     ]
    }
   ],
   "source": [
    "for x in range(len(lista)): \n",
    "\tself.insert(nodes, nodo(f/eq[x], chars[x])) "
   ]
  }
 ],
 "metadata": {
  "kernelspec": {
   "display_name": "amazonas",
   "language": "python",
   "name": "python3"
  },
  "language_info": {
   "codemirror_mode": {
    "name": "ipython",
    "version": 3
   },
   "file_extension": ".py",
   "mimetype": "text/x-python",
   "name": "python",
   "nbconvert_exporter": "python",
   "pygments_lexer": "ipython3",
   "version": "3.12.2"
  }
 },
 "nbformat": 4,
 "nbformat_minor": 2
}
