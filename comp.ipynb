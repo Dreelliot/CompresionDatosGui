{
 "cells": [
  {
   "cell_type": "code",
   "execution_count": 1,
   "metadata": {},
   "outputs": [],
   "source": [
    "import tkinter as tk\n",
    "import graphviz as gv\n",
    "import numpy as np\n",
    "import matplotlib.pyplot as plt\n",
    "import collections \n",
    "import heapq"
   ]
  },
  {
   "cell_type": "code",
   "execution_count": 2,
   "metadata": {},
   "outputs": [],
   "source": [
    "class Nodohuff:\n",
    "    def __init__(self, sym, frec, izq=None, der=None):\n",
    "        self.sym = sym\n",
    "        self.frec = frec\n",
    "        self.izq = izq\n",
    "        self.der = der\n",
    "        self.dir= ''\n",
    "\n",
    "    def __lt__(self, otro):\n",
    "        return self.frec < otro.frec \n",
    "\n",
    "    def __repr__(self):\n",
    "        return f\"Nodohuff(sym={self.sym}, frec={self.frec})\"\n",
    "    \n",
    "    def frecuencia_caracter(string):\n",
    "        frecuencia_caracter = collections.Counter(string)\n",
    "        #print(frecuencia_caracter)\n",
    "        lista=[]\n",
    "        for key, value in frecuencia_caracter.items():\n",
    "            sym = key \n",
    "            frec = value\n",
    "            nodo = Nodohuff(sym, frec)\n",
    "            lista.append(nodo)\n",
    "        tabla_frecuencia= plt.bar([nodo.sym for nodo in lista], [nodo.frec for nodo in lista],fc='Turquoise',ec='Black')\n",
    "        plt.bar_label(tabla_frecuencia,labels=[nodo.frec for nodo in lista],label_type='edge',fontsize=12,padding=3)\n",
    "        plt.title('Frecuencia Caracteres', fontsize=20)\n",
    "        plt.xlabel('Caracteres')\n",
    "        plt.ylabel('Frecuencia')\n",
    "        plt.show()\n",
    "\n",
    "        return lista\n",
    "    \n",
    "    def mkarbol_huff(string): \n",
    "        frecuencia_caracter = collections.Counter(string)\n",
    "\n",
    "        no_usado = []\n",
    "        for key, value in frecuencia_caracter.items():\n",
    "            sym=key\n",
    "            frec=value\n",
    "            nodo= Nodohuff(sym, frec)\n",
    "            #print (nodo)\n",
    "            heapq.heappush(no_usado,nodo)\n",
    "            #print(no_usado)\n",
    "        return no_usado\n",
    "    \n",
    "    def sortarbol_huff(no_usado):\n",
    "        while len(no_usado)>1:\n",
    "            izq = heapq.heappop(no_usado)\n",
    "            der = heapq.heappop(no_usado)\n",
    "            #print(izq, der)\n",
    "            izq.dir = '0'\n",
    "            der.dir = '1'\n",
    "            #print(no_usado)\n",
    "            newnodo = Nodohuff(None, izq.frec + der.frec, izq, der)\n",
    "            #print(newnodo)\n",
    "            heapq.heappush(no_usado, newnodo)\n",
    "            #print(no_usado)\n",
    "        return no_usado\n",
    "    \n",
    "    def printnodos(nodo, val=''):\n",
    "        newval=val+str(nodo.dir)\n",
    "\n",
    "        if nodo.izq:\n",
    "            Nodohuff.printnodos(nodo.izq, newval) \n",
    "        if nodo.der:\n",
    "            Nodohuff.printnodos(nodo.der, newval)\n",
    "\n",
    "        if(not nodo.izq and not nodo.der):\n",
    "            print(f\"{nodo.sym} -> {newval}\")\n",
    "        "
   ]
  },
  {
   "cell_type": "code",
   "execution_count": 3,
   "metadata": {},
   "outputs": [
    {
     "data": {
      "image/png": "[encoded data removed]",
      "text/plain": [
       "<Figure size 640x480 with 1 Axes>"
      ]
     },
     "metadata": {},
     "output_type": "display_data"
    }
   ],
   "source": [
    "string = \"tres tiristes tigres comen trigo en un trigal\"\n",
    "\n",
    "lista = Nodohuff.frecuencia_caracter(string)"
   ]
  },
  {
   "cell_type": "code",
   "execution_count": 4,
   "metadata": {},
   "outputs": [
    {
     "name": "stdout",
     "output_type": "stream",
     "text": [
      "l -> 00000\n",
      "a -> 00001\n",
      "o -> 0001\n",
      "e -> 001\n",
      "i -> 010\n",
      "r -> 011\n",
      "n -> 1000\n",
      "m -> 10010\n",
      "c -> 100110\n",
      "u -> 100111\n",
      "t -> 101\n",
      "g -> 1100\n",
      "s -> 1101\n",
      "  -> 111\n"
     ]
    }
   ],
   "source": [
    "no_usado = Nodohuff.mkarbol_huff(string)\n",
    "#print(no_usado)\n",
    "\n",
    "Nodohuff.sortarbol_huff(no_usado)\n",
    "Nodohuff.printnodos(no_usado[0])"
   ]
  }
 ],
 "metadata": {
  "kernelspec": {
   "display_name": "amazonas",
   "language": "python",
   "name": "python3"
  },
  "language_info": {
   "codemirror_mode": {
    "name": "ipython",
    "version": 3
   },
   "file_extension": ".py",
   "mimetype": "text/x-python",
   "name": "python",
   "nbconvert_exporter": "python",
   "pygments_lexer": "ipython3",
   "version": "3.12.2"
  }
 },
 "nbformat": 4,
 "nbformat_minor": 2
}
