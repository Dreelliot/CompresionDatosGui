{
 "cells": [
  {
   "cell_type": "code",
   "execution_count": 7,
   "metadata": {},
   "outputs": [],
   "source": [
    "import tkinter as tk\n",
    "import graphviz as gv\n",
    "import numpy as np\n",
    "import matplotlib as plt\n",
    "import collections \n",
    "import heapq"
   ]
  },
  {
   "cell_type": "code",
   "execution_count": 8,
   "metadata": {},
   "outputs": [],
   "source": [
    "class Nodohuff:\n",
    "    def __init__(self, sym, frec, izq=None, der=None):\n",
    "        self.sym = sym\n",
    "        self.frec = frec\n",
    "        self.izq = izq\n",
    "        self.der = der\n",
    "        self.dir= ''\n",
    "\n",
    "    def __lt__(self, otro):\n",
    "        return self.frec < otro.frec \n",
    "\n",
    "    def __repr__(self):\n",
    "        return f\"Nodohuff(sym={self.sym}, frec={self.frec})\"\n",
    "    \n",
    "    def frecuencia_caracter(string):\n",
    "        frecuencia_caracter = collections.Counter(string)\n",
    "        #print(frecuencia_caracter)\n",
    "        lista=[]\n",
    "        for key, value in frecuencia_caracter.items():\n",
    "            sym = key \n",
    "            frec = value\n",
    "            nodo = Nodohuff(sym, frec)\n",
    "            lista.append(nodo)\n",
    "\n",
    "        no_usado = []\n",
    "        for key, value in frecuencia_caracter.items():\n",
    "            sym=key\n",
    "            frec=value\n",
    "            nodo= Nodohuff(sym, frec)\n",
    "            heapq.heappush(no_usado,nodo) \n",
    "\n",
    "        #print(lista)    \n",
    "        return lista, no_usado\n",
    "    \n",
    "    def mkarbol_huff(string): \n",
    "        frecuencia_caracter = collections.Counter(string)\n",
    "\n",
    "        no_usado = []\n",
    "        for key, value in frecuencia_caracter.items():\n",
    "            sym=key\n",
    "            frec=value\n",
    "            nodo= Nodohuff(sym, frec)\n",
    "            heapq.heappush(no_usado,nodo)\n",
    "        return no_usado\n",
    "    \n",
    "    def sortarbol_huff(no_usado):\n",
    "        while len(no_usado)>1:\n",
    "            izq = heapq.heappop(no_usado)\n",
    "            der = heapq.heappop(no_usado)\n",
    "           \n",
    "            izq.dir = '0'\n",
    "            der.dir = '1'\n",
    "\n",
    "            newnodo = Nodohuff(None, izq.frec + der.frec, izq, der)\n",
    "            heapq.heappush(no_usado, newnodo)\n",
    "        return no_usado\n",
    "    \n",
    "    def printnodos(nodo, val=''):\n",
    "        newval=val+str(nodo.dir)\n",
    "\n",
    "        if nodo.izq:\n",
    "            Nodohuff.printnodos(nodo.izq, newval) \n",
    "        if nodo.der:\n",
    "            Nodohuff.printnodos(nodo.der, newval)\n",
    "\n",
    "        if(not nodo.izq and not nodo.der):\n",
    "            print(f\"{nodo.sym} -> {newval}\")\n",
    "        "
   ]
  },
  {
   "cell_type": "code",
   "execution_count": 9,
   "metadata": {},
   "outputs": [
    {
     "name": "stdout",
     "output_type": "stream",
     "text": [
      "  -> 00\n",
      "i -> 0100\n",
      "d -> 01010\n",
      "e -> 01011\n",
      "l -> 011\n",
      "t -> 1000\n",
      "n -> 1001\n",
      "a -> 101\n",
      "o -> 1100\n",
      "p -> 110100\n",
      "b -> 110101\n",
      "u -> 11011\n",
      "v -> 1110\n",
      "c -> 1111\n"
     ]
    }
   ],
   "source": [
    "string = \"pablito clavo un clavito en la calva de un calvito\"\n",
    "\n",
    "lista = Nodohuff.frecuencia_caracter(string)\n",
    "no_usado = Nodohuff.mkarbol_huff(string)\n",
    "#print(no_usado)\n",
    "\n",
    "Nodohuff.sortarbol_huff(no_usado)\n",
    "Nodohuff.printnodos(no_usado[0])\n",
    "\n"
   ]
  }
 ],
 "metadata": {
  "kernelspec": {
   "display_name": "amazonas",
   "language": "python",
   "name": "python3"
  },
  "language_info": {
   "codemirror_mode": {
    "name": "ipython",
    "version": 3
   },
   "file_extension": ".py",
   "mimetype": "text/x-python",
   "name": "python",
   "nbconvert_exporter": "python",
   "pygments_lexer": "ipython3",
   "version": "3.12.2"
  }
 },
 "nbformat": 4,
 "nbformat_minor": 2
}
