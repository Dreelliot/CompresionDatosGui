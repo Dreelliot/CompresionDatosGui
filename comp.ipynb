{
 "cells": [
  {
   "cell_type": "code",
   "execution_count": 48,
   "metadata": {},
   "outputs": [],
   "source": [
    "import tkinter as tk\n",
    "import graphviz as gv\n",
    "import numpy as np\n",
    "import matplotlib as plt\n",
    "import collections \n",
    "import heapq"
   ]
  },
  {
   "cell_type": "code",
   "execution_count": 49,
   "metadata": {},
   "outputs": [],
   "source": [
    "class Nodohuff:\n",
    "    def __init__(self, sym, frec, izq=None, der=None):\n",
    "        self.sym = sym\n",
    "        self.frec = frec\n",
    "        self.left = None\n",
    "        self.right = None\n",
    "        self.dir= ''\n",
    "\n",
    "    def __lt__(self, otro):\n",
    "        return self.frec < otro.frec \n",
    "\n",
    "    def __repr__(self):\n",
    "        return f\"Nodohuff(sym={self.sym}, frec={self.frec})\"\n",
    "    \n",
    "    def frecuencia_caracter(string):\n",
    "        frecuencia_caracter = collections.Counter(string)\n",
    "        #print(frecuencia_caracter)\n",
    "        lista=[]\n",
    "        for key, value in frecuencia_caracter.items():\n",
    "            sym = key \n",
    "            frec = value\n",
    "            nodo = Nodohuff(sym, frec)\n",
    "            lista.append(nodo)\n",
    "\n",
    "        no_usado = []\n",
    "        for key, value in frecuencia_caracter.items():\n",
    "            sym=key\n",
    "            frec=value\n",
    "            nodo= Nodohuff(sym, frec)\n",
    "            heapq.heappush(no_usado,nodo) \n",
    "\n",
    "        #print(lista)    \n",
    "        return lista, no_usado\n",
    "    \n",
    "    def mkarbol_huff(string): \n",
    "        frecuencia_caracter = collections.Counter(string)\n",
    "\n",
    "        no_usado = []\n",
    "        for key, value in frecuencia_caracter.items():\n",
    "            sym=key\n",
    "            frec=value\n",
    "            nodo= Nodohuff(sym, frec)\n",
    "            heapq.heappush(no_usado,nodo)\n",
    "        return no_usado\n",
    "    \n",
    "    def sortarbol_huff(no_usado):\n",
    "        while len(no_usado)>1:\n",
    "            izq = heapq.heappop(no_usado)\n",
    "            der = heapq.heappop(no_usado)\n",
    "            izq.dir = '0'\n",
    "            der.dir = '1'\n",
    "\n",
    "            nodo = Nodohuff(None, izq.frec + der.frec, izq, der)\n",
    "            heapq.heappush(no_usado, nodo)"
   ]
  },
  {
   "cell_type": "code",
   "execution_count": 51,
   "metadata": {},
   "outputs": [
    {
     "name": "stdout",
     "output_type": "stream",
     "text": [
      "[Nodohuff(sym=None, frec=10)]\n"
     ]
    }
   ],
   "source": [
    "string = \"agua clara\"\n",
    "\n",
    "lista = Nodohuff.frecuencia_caracter(string)\n",
    "no_usado = Nodohuff.mkarbol_huff(string)\n",
    "#print(no_usado)\n",
    "\n",
    "Nodohuff.sortarbol_huff(no_usado)\n",
    "\n",
    "print(no_usado)\n",
    "\n"
   ]
  }
 ],
 "metadata": {
  "kernelspec": {
   "display_name": "amazonas",
   "language": "python",
   "name": "python3"
  },
  "language_info": {
   "codemirror_mode": {
    "name": "ipython",
    "version": 3
   },
   "file_extension": ".py",
   "mimetype": "text/x-python",
   "name": "python",
   "nbconvert_exporter": "python",
   "pygments_lexer": "ipython3",
   "version": "3.12.2"
  }
 },
 "nbformat": 4,
 "nbformat_minor": 2
}
