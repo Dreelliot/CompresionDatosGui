{
 "cells": [
  {
   "cell_type": "code",
   "execution_count": 1,
   "metadata": {},
   "outputs": [
    {
     "name": "stdout",
     "output_type": "stream",
     "text": [
      "Mensaje Decodificado: tres tristes tigres tragaban trigo en un trigal en tres tristes trastos\n"
     ]
    }
   ],
   "source": [
    "import os \n",
    "class Nodo:\n",
    "    def __init__(self, sym, izq=None, der=None):\n",
    "        self.sym = sym\n",
    "        self.izq = izq\n",
    "        self.der = der\n",
    "\n",
    "def evaluarPreOrden(preOrden):\n",
    "    resultado = []\n",
    "    i = 0\n",
    "    while i < len(preOrden):\n",
    "        if preOrden[i] == '-' and preOrden[i+1] == '1':\n",
    "            resultado.append('-1')\n",
    "            i += 2  # skip over '-1'\n",
    "        else:\n",
    "            resultado.append(preOrden[i])\n",
    "            i += 1\n",
    "    return resultado\n",
    "\n",
    "def reconstruirArbol(preOrden):\n",
    "    def helper(it):\n",
    "        sym = next(it, None)\n",
    "        if sym is None or sym == '-1':\n",
    "            return None\n",
    "        nodo = Nodo(sym)\n",
    "        nodo.izq = helper(it)\n",
    "        nodo.der = helper(it)\n",
    "        return nodo\n",
    "    PreOrdenEvaluado = evaluarPreOrden(preOrden)\n",
    "    it = iter(PreOrdenEvaluado)\n",
    "    raiz = helper(it)\n",
    "    return raiz\n",
    "\n",
    "def DecodificarCodigo(raiz, codificado):\n",
    "    Decodificado = ''\n",
    "    nodoActual = raiz\n",
    "    for bit in codificado:\n",
    "        if bit == '0':\n",
    "            nodoActual = nodoActual.izq\n",
    "        elif bit == '1':\n",
    "            nodoActual = nodoActual.der\n",
    "        if nodoActual and nodoActual.izq is None and nodoActual.der is None:\n",
    "            Decodificado += nodoActual.sym\n",
    "            nodoActual = raiz\n",
    "    return Decodificado\n",
    "\n",
    "def leerArchivo(path):\n",
    "    with open(path, 'r') as file:\n",
    "        lines = file.readlines()   \n",
    "    if len(lines) < 2:\n",
    "        raise ValueError(\"The file does not contain enough lines.\")  \n",
    "    arbolPreOrden = lines[0].strip()\n",
    "    codificado = lines[1].strip()\n",
    "    return arbolPreOrden, codificado\n",
    "\n",
    "actual = os.getcwd()\n",
    "path = os.path.join(actual, 'Comprimido','compresion.huf')\n",
    "arbolPreOrden, codificado = leerArchivo(path)\n",
    "raiz = reconstruirArbol(arbolPreOrden)\n",
    "Decodificado = DecodificarCodigo(raiz, codificado)\n",
    "print(\"Mensaje Decodificado:\", Decodificado)\n"
   ]
  }
 ],
 "metadata": {
  "kernelspec": {
   "display_name": "amazonas",
   "language": "python",
   "name": "python3"
  },
  "language_info": {
   "codemirror_mode": {
    "name": "ipython",
    "version": 3
   },
   "file_extension": ".py",
   "mimetype": "text/x-python",
   "name": "python",
   "nbconvert_exporter": "python",
   "pygments_lexer": "ipython3",
   "version": "3.12.2"
  }
 },
 "nbformat": 4,
 "nbformat_minor": 2
}
