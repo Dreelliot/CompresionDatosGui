{
 "cells": [
  {
   "cell_type": "code",
   "execution_count": 41,
   "metadata": {},
   "outputs": [],
   "source": [
    "import matplotlib.pyplot as plt\n",
    "import graphviz as gv\n",
    "import collections \n",
    "import heapq\n",
    "import os"
   ]
  },
  {
   "cell_type": "code",
   "execution_count": 42,
   "metadata": {},
   "outputs": [],
   "source": [
    "codigo ={}\n",
    "\n",
    "frec = collections.defaultdict(int)\n",
    "\n",
    "class nodoMinHeap:\n",
    "    def __init__(self,sym,frec):\n",
    "        self.izq=None\n",
    "        self.der=None\n",
    "        self.sym=sym\n",
    "        self.frec=frec\n",
    "    \n",
    "    def __lt__(self,other):\n",
    "        return self.frec<other.frec\n",
    "    \n",
    "def printCodigo(raiz,str):\n",
    "    if raiz is None:\n",
    "        return\n",
    "    if raiz.sym !='$':\n",
    "        print(raiz.sym+':'+str)\n",
    "    printCodigo(raiz.izq,str+'0')\n",
    "    printCodigo(raiz.der,str+'1')\n",
    "\n",
    "def guardaCodigo(raiz,str): \n",
    "    if raiz is None:\n",
    "        return\n",
    "    if raiz.sym !='$':\n",
    "        codigo[raiz.sym]=str\n",
    "    guardaCodigo(raiz.izq,str+'0')\n",
    "    guardaCodigo(raiz.der,str+'1')\n",
    "\n",
    "def Huffman():\n",
    "    global minHeap\n",
    "    for key in frec:\n",
    "        minHeap.append(nodoMinHeap(key,frec[key]))\n",
    "    heapq.heapify(minHeap)\n",
    "    while len(minHeap)!=1:\n",
    "        izq = heapq.heappop(minHeap)\n",
    "        der = heapq.heappop(minHeap)\n",
    "        top = nodoMinHeap('$',izq.frec+der.frec)\n",
    "        top.izq = izq\n",
    "        top.der = der\n",
    "        heapq.heappush(minHeap,top)\n",
    "    guardaCodigo(minHeap[0],'')\n",
    "\n",
    "def calcFrec(string):\n",
    "    n = len(string)\n",
    "    for i in range(n):\n",
    "        frec[string[i]]+=1\n",
    "        #print(frec)\n",
    "    return frec\n",
    "\n",
    "def plotFrec(frec):\n",
    "    tabla_frecuencia= plt.bar([sym for sym  in frec.keys()], [ cant for cant in frec.values()],fc='Turquoise',ec='Black')\n",
    "    plt.bar_label(tabla_frecuencia,labels=[cant for cant in frec.values()], label_type='edge',fontsize=12,padding=3)\n",
    "    plt.title('Frecuencia Caracteres', fontsize=20)\n",
    "    plt.xlabel('Caracteres')\n",
    "    plt.ylabel('Frecuencia')\n",
    "    plt.show()\n",
    "\n",
    "def printArbolPre(raiz):\n",
    "    if raiz is None:\n",
    "        return\n",
    "    print(raiz.sym,end='') \n",
    "    if raiz.izq is None:\n",
    "        print('-1',end='')\n",
    "    if raiz.der is None:\n",
    "        print('-1',end='')\n",
    "    printArbolPre(raiz.izq)\n",
    "    printArbolPre(raiz.der)\n",
    "\n",
    "def writeArbolPre(raiz,fp):    \n",
    "        if raiz is None:\n",
    "            return\n",
    "        fp.write(raiz.sym) \n",
    "        if raiz.izq is None:\n",
    "            fp.write('-1')\n",
    "        if raiz.der is None:\n",
    "            fp.write('-1')\n",
    "        writeArbolPre(raiz.izq,fp)\n",
    "        writeArbolPre(raiz.der,fp)\n",
    "\n",
    "def writeCodificado(string,fp):\n",
    "    codificado=''\n",
    "    for i in string:\n",
    "        codificado+=codigo[i]\n",
    "    fp.write('\\n'+codificado)\n",
    "    return codificado\n",
    "\n",
    "\n",
    "def mkFile(raiz,str):\n",
    "    #Raiz=raiz\n",
    "    archActual = os.getcwd()\n",
    "    sub = \"Comprimido\"\n",
    "    file = \"compresion.huf\"\n",
    "    newsub = os.path.join(archActual, sub)\n",
    "    file_path = os.path.join(newsub, file)\n",
    "    if not os.path.exists(newsub):\n",
    "        os.makedirs(newsub)\n",
    "    with open(file_path, 'w') as fp:\n",
    "        writeArbolPre(raiz, fp)\n",
    "        writeCodificado(str,fp)\n",
    "        \n",
    "        \n",
    "def codificar(string):\n",
    "    codificado=''\n",
    "    for i in string:\n",
    "        codificado+=codigo[i]\n",
    "    print('Codigo Huffman: \\n',codificado)\n",
    "    return codificado\n",
    "\n",
    "def decodificar_archivo(raiz,s):\n",
    "    ans=''\n",
    "    actual=raiz\n",
    "    n=len(s)\n",
    "    for i in range(n):\n",
    "        if s[i]=='0':\n",
    "            actual=actual.izq\n",
    "        else:\n",
    "            actual=actual.der\n",
    "\n",
    "        if actual.izq is None and actual.der is None:\n",
    "            ans+=actual.sym\n",
    "            actual=raiz\n",
    "    return ans\n"
   ]
  },
  {
   "cell_type": "code",
   "execution_count": 43,
   "metadata": {},
   "outputs": [
    {
     "data": {
      "image/png": "[encoded data removed]",
      "text/plain": [
       "<Figure size 640x480 with 1 Axes>"
      ]
     },
     "metadata": {},
     "output_type": "display_data"
    },
    {
     "name": "stdout",
     "output_type": "stream",
     "text": [
      "a:0\n",
      "o:100\n",
      " :101\n",
      "m:11\n",
      "Codigo Huffman: \n",
      " 1101101010111001010101110110110\n",
      "Decodificado: \n",
      " mama amo a mamama\n"
     ]
    }
   ],
   "source": [
    "\n",
    "if __name__ == '__main__':\n",
    "    minHeap=[]\n",
    "    string='mama amo a mamama'\n",
    "    #string='tres tristes tigres tragaban trigo en un trigal en tres tristes trastos'\n",
    "    decodificado= ''\n",
    "    frec= calcFrec(string)\n",
    "    plotFrec(frec)\n",
    "    Huffman()\n",
    "    printCodigo(minHeap[0],'')\n",
    "    codificado = codificar(string)\n",
    "   \n",
    "    decodificado=decodificar_archivo(minHeap[0],codificado)\n",
    "    print('Decodificado: \\n',decodificado)"
   ]
  },
  {
   "cell_type": "code",
   "execution_count": 44,
   "metadata": {},
   "outputs": [
    {
     "name": "stdout",
     "output_type": "stream",
     "text": [
      "$a-1-1$$o-1-1 -1-1m-1-1"
     ]
    }
   ],
   "source": [
    "printArbolPre(minHeap[0])\n",
    "mkFile(minHeap[0],string)"
   ]
  }
 ],
 "metadata": {
  "kernelspec": {
   "display_name": "amazonas",
   "language": "python",
   "name": "python3"
  },
  "language_info": {
   "codemirror_mode": {
    "name": "ipython",
    "version": 3
   },
   "file_extension": ".py",
   "mimetype": "text/x-python",
   "name": "python",
   "nbconvert_exporter": "python",
   "pygments_lexer": "ipython3",
   "version": "3.12.2"
  }
 },
 "nbformat": 4,
 "nbformat_minor": 2
}
